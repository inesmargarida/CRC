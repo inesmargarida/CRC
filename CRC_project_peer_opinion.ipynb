{
  "nbformat": 4,
  "nbformat_minor": 5,
  "metadata": {
    "colab": {
      "name": "CRC_project_peer_opinion.ipynb",
      "provenance": [],
      "collapsed_sections": [],
      "toc_visible": true
    },
    "kernelspec": {
      "display_name": "Python 3",
      "language": "python",
      "name": "python3"
    },
    "language_info": {
      "codemirror_mode": {
        "name": "ipython",
        "version": 3
      },
      "file_extension": ".py",
      "mimetype": "text/x-python",
      "name": "python",
      "nbconvert_exporter": "python",
      "pygments_lexer": "ipython3",
      "version": "3.8.8"
    },
    "accelerator": "GPU"
  },
  "cells": [
    {
      "cell_type": "markdown",
      "metadata": {
        "id": "m99N4ziywdGr"
      },
      "source": [
        "# Imports"
      ],
      "id": "m99N4ziywdGr"
    },
    {
      "cell_type": "code",
      "metadata": {
        "colab": {
          "base_uri": "https://localhost:8080/"
        },
        "id": "715398e8",
        "outputId": "caa5f986-3cfd-4909-d0a5-b13aaa7c58f6"
      },
      "source": [
        "import networkx as nx\n",
        "%matplotlib inline\n",
        "import numpy as np\n",
        "import random\n",
        "import matplotlib\n",
        "print(nx.__version__)\n",
        "import matplotlib.pyplot as plt\n",
        "import math"
      ],
      "id": "715398e8",
      "execution_count": null,
      "outputs": [
        {
          "output_type": "stream",
          "name": "stdout",
          "text": [
            "2.6.3\n"
          ]
        }
      ]
    },
    {
      "cell_type": "markdown",
      "metadata": {
        "id": "0tnBgaSYfeHI"
      },
      "source": [
        "# Exponential Network"
      ],
      "id": "0tnBgaSYfeHI"
    },
    {
      "cell_type": "code",
      "metadata": {
        "id": "rzF9Y8pRfh7L"
      },
      "source": [
        "def exp_graph(n, m, seed):\n",
        "  random.seed = seed\n",
        "  G = nx.Graph()\n",
        "  for i in range(n):\n",
        "    if i == 0:\n",
        "      G.add_node(0)\n",
        "    elif i < m:\n",
        "        G.add_edge(i,i-1)\n",
        "    else: # random attachment\n",
        "      connections = random.sample(range(0, i), m)\n",
        "      for node in connections:\n",
        "        G.add_edge(i, node)\n",
        "  \n",
        "  return G\n"
      ],
      "id": "rzF9Y8pRfh7L",
      "execution_count": null,
      "outputs": []
    },
    {
      "cell_type": "markdown",
      "metadata": {
        "id": "dOKyVJkqtGpq"
      },
      "source": [
        "# Model\n"
      ],
      "id": "dOKyVJkqtGpq"
    },
    {
      "cell_type": "code",
      "metadata": {
        "id": "9YSj0iI4tK_e"
      },
      "source": [
        "seed = 42\n",
        "max_distance = 5\n",
        "random.seed = seed\n",
        "\n",
        "class Model:\n",
        "  def __init__(self, Z, avg_degree, model_name):\n",
        "    ''' Model properties '''\n",
        "    self.avg_degree = avg_degree\n",
        "    self.Z = Z\n",
        "    self.model_name = model_name\n",
        "    \n",
        "    ''' Create Model '''\n",
        "    if(model_name == 'BA'):\n",
        "      self.G = nx.barabasi_albert_graph(self.Z, self.avg_degree, seed = seed)\n",
        "    elif(model_name == 'Exp'):\n",
        "      self.G = exp_graph(self.Z, self.avg_degree, seed = seed)\n",
        "    elif(model_name == 'HoSW'):\n",
        "      self.G = nx.connected_watts_strogatz_graph(self.Z, self.avg_degree, 0.1, tries= 100, seed = seed)\n",
        "    elif(model_name == 'HeSW'):\n",
        "      self.G = nx.connected_watts_strogatz_graph(self.Z, self.avg_degree, 1, tries= 100, seed = seed)\n",
        "    \n",
        "    self.G.graph['name']=self.model_name\n",
        "\n",
        "    self.delta = []\n",
        "    self.eps = []\n",
        "    for i in range(max_distance):\n",
        "      self.delta.append(0)\n",
        "      self.eps.append(0)\n",
        "\n",
        "    self.t = 1\n",
        "    self.j = 1\n",
        "\n",
        "    self.influenced = set()\n",
        "\n",
        "  def mark_susceptibles(self):\n",
        "      for node in list(self.G.nodes()):\n",
        "          self.G.nodes[node]['influenced'] = 0\n",
        "\n",
        "  def calculate_propensity(self):\n",
        "    self.update_average_probabilities()\n",
        "    self.random_model.update_average_probabilities() \n",
        "\n",
        "  def calculate_normalized_propensity(self):\n",
        "    x = list()\n",
        "    y = list()\n",
        "    for i in range(max_distance):\n",
        "      print('eps ', self.eps[i], ' epsrandom ', self.random_model.eps[i])\n",
        "      self.delta[i] = (self.eps[i] / self.random_model.eps[i]) - 1\n",
        "      print('delta_' + str(i+1) + '/ delta_1 = ', self.delta[i] / self.delta[0])\n",
        "      x.append(self.delta[i] / self.delta[0])  \n",
        "      y.append(i+1)\n",
        "\n",
        "    fig = plt.figure()\n",
        "    ax = fig.add_axes([0,0,1,1])\n",
        "    plt.ylim(-0.6, 1.1)\n",
        "    ax.bar(y,x)\n",
        "    ax.grid()\n",
        "    plt.xlabel(\"social distance\")\n",
        "    plt.ylabel(\"delta_n/delta_1\")\n",
        "    plt.show()\n",
        "\n",
        "  def neighbors_at_distance(self, source, neighbors_list):\n",
        "    for i in range(max_distance):\n",
        "      neighbors_list.append(set())\n",
        "      neighbors_list[i] = set(nx.bfs_tree(self.G, source, depth_limit=i+1))\n",
        "\n",
        "    for i in range(max_distance - 1, 1, -1):\n",
        "      neighbors_list[i] = neighbors_list[i].difference(neighbors_list[i-1])\n",
        "\n",
        "  def update_average_probabilities(self):\n",
        "    if(self.j == 0):\n",
        "      print('fin')\n",
        "      return\n",
        "\n",
        "    j_source = []\n",
        "    count = []\n",
        "    \n",
        "    for i in range(max_distance):\n",
        "      j_source.append(0)\n",
        "      count.append(0)\n",
        "\n",
        "    for source in list(self.G.nodes()):\n",
        "        neighbors_list = []\n",
        "        self.neighbors_at_distance(source,neighbors_list)\n",
        "\n",
        "        for i in range(max_distance):\n",
        "          if len(neighbors_list[i]) > 0:\n",
        "            neig_j = 0\n",
        "            for neighbor in neighbors_list[i]:\n",
        "                if self.G.nodes[neighbor]['influenced'] == self.G.nodes[source]['influenced']:\n",
        "                    neig_j += 1\n",
        "\n",
        "            j_source[i] = (j_source[i] * count[i] + neig_j / len(neighbors_list[i])) / (count[i] + 1) \n",
        "            count[i] += 1\n",
        "    \n",
        "    for i in range(max_distance):\n",
        "        if(count[i] > 0):\n",
        "          self.eps[i] = (self.eps[i] * (self.t) + j_source[i]) / (self.t + 1)\n",
        "   \n",
        "  def colorMap(self, color_map):\n",
        "    for node in list(self.G.nodes()):\n",
        "        if self.G.nodes[node]['influenced'] == 0:\n",
        "            color_map.append('blue')\n",
        "        elif self.G.nodes[node]['influenced'] == 1:\n",
        "            color_map.append('red')\n",
        "\n",
        "  def draw(self):\n",
        "      color_map = []  \n",
        "      self.colorMap(color_map)\n",
        "      nx.draw(self.G, node_color=color_map, with_labels=False)\n",
        "      plt.show()\n"
      ],
      "id": "9YSj0iI4tK_e",
      "execution_count": null,
      "outputs": []
    },
    {
      "cell_type": "code",
      "metadata": {
        "id": "oTpI34nP_WyM"
      },
      "source": [
        ""
      ],
      "id": "oTpI34nP_WyM",
      "execution_count": null,
      "outputs": []
    },
    {
      "cell_type": "markdown",
      "metadata": {
        "id": "sOLSwVB9yDbT"
      },
      "source": [
        "# Random Model"
      ],
      "id": "sOLSwVB9yDbT"
    },
    {
      "cell_type": "code",
      "metadata": {
        "id": "s5NrrKvbxozF"
      },
      "source": [
        "class RandomModel(Model):\n",
        "  def __init__(self, Z, avg_degree, model_name):\n",
        "    super().__init__(Z, avg_degree, model_name)\n",
        "    self.j = 0\n",
        "    random.seed = 42\n",
        "    self.mark_susceptibles()\n",
        "\n",
        "  def mark_susceptibles(self):\n",
        "    super().mark_susceptibles()\n",
        "  \n",
        "  def neighbors_at_distance(self, source, neighbors_list):\n",
        "    super().neighbors_at_distance(source, neighbors_list)\n",
        "  \n",
        "  def update_average_probabilities(self):\n",
        "    super().update_average_probabilities()\n",
        "\n",
        "  def calculate_propensity(self):\n",
        "    super().calculate_propensity()\n",
        "\n",
        "  def calculate_normalized_propensity(self):\n",
        "    super().calculate_normalized_propensity()\n",
        "    \n",
        "  def mark_influenced(self, j):\n",
        "    self.mark_susceptibles()\n",
        "    self.influenced = set()\n",
        "    self.j = j\n",
        "    nodes_random = random.sample(list(self.G.nodes()), j)\n",
        "    for node in nodes_random:\n",
        "      self.G.nodes[node]['influenced'] = 1\n",
        "      self.influenced.add(node)"
      ],
      "id": "s5NrrKvbxozF",
      "execution_count": null,
      "outputs": []
    },
    {
      "cell_type": "markdown",
      "metadata": {
        "id": "N1KdDnNbwpCi"
      },
      "source": [
        "# SIR Model\n"
      ],
      "id": "N1KdDnNbwpCi"
    },
    {
      "cell_type": "code",
      "metadata": {
        "id": "a5788e43"
      },
      "source": [
        "class SIRModel(Model):\n",
        "  def __init__(self, Z, avg_degree, model_name):\n",
        "    super().__init__(Z, avg_degree, model_name)\n",
        "    np.random.seed = seed\n",
        "\n",
        "  def mark_susceptibles(self):\n",
        "      super().mark_susceptibles()\n",
        "\n",
        "  def simulate_SIR(self, alpha, beta):\n",
        "      print(self.model_name)\n",
        "      print('Diameter: ' + str(nx.diameter(self.G)))\n",
        "      print('Average Degree: {}'.format(self.G.number_of_edges() /self.G.number_of_nodes()))\n",
        "      print('Average Path Length: {}'.format(nx.average_shortest_path_length(self.G)))\n",
        "      \n",
        "      # 1 . All nodes are marked as susceptibles\n",
        "      self.mark_susceptibles()\n",
        "      # 2. One node randomly get infected (value:0 = susceptible; value:1 = infected; value:2 = recovered)\n",
        "      patient_zero_n = random.choice(list(self.G.nodes()))\n",
        "      self.G.nodes[patient_zero_n]['influenced'] = 1\n",
        "      #self.draw()\n",
        "      # 3. Create random model to calculate epsilon of random distribution of infected\n",
        "      self.create_random_model()\n",
        "      # 4. Simulate SIR - stops when there is no infected node\n",
        "      self.SIR_model(alpha, beta, patient_zero_n)\n",
        "  \n",
        "  def SIR_model(self, alpha, beta, n0):\n",
        "\n",
        "      self.influenced.add(n0)\n",
        "\n",
        "      while len(self.influenced) != 0:\n",
        "          infected_list = self.influenced.copy()\n",
        "\n",
        "          for node in infected_list:\n",
        "              neighbors = list(self.G.neighbors(node))\n",
        "\n",
        "              for neighbor in neighbors:\n",
        "\n",
        "                  # Neighbor gets infected with probability alpha\n",
        "                  if self.G.nodes[neighbor]['influenced'] == 0 and np.random.uniform() < alpha: \n",
        "                      self.influenced.add(neighbor)\n",
        "                      self.G.nodes[neighbor]['influenced'] = 1\n",
        "                      #self.random_model.mark_infected(1) \n",
        "                      self.j += 1\n",
        "\n",
        "              # Patient recovers with probability beta       \n",
        "              if np.random.uniform() < beta:           \n",
        "                  self.G.nodes[node]['influenced'] = 2\n",
        "                  #self.random_model.mark_recovered(1)\n",
        "                  self.influenced.remove(node)\n",
        "                  self.j -= 1\n",
        "\n",
        "          self.random_model.mark_influenced(self.j)\n",
        "          self.calculate_propensity()\n",
        "          #self.draw()\n",
        "          #change order below\n",
        "          self.t+=1\n",
        "          self.random_model.t+=1 \n",
        "\n",
        "      self.calculate_normalized_propensity()\n",
        "      return\n",
        "  \n",
        "  def calculate_propensity(self):\n",
        "    super().calculate_propensity()\n",
        "\n",
        "  def calculate_normalized_propensity(self):\n",
        "    super().calculate_normalized_propensity()\n",
        "\n",
        "  def neighbors_at_distance(self, source, neighbors_list):\n",
        "    super().neighbors_at_distance(source, neighbors_list)\n",
        "\n",
        "  def update_average_probabilities(self):\n",
        "    super().update_average_probabilities()\n",
        "  \n",
        "  def create_random_model(self):\n",
        "    self.random_model = RandomModel(self.Z, self.avg_degree, self.model_name)\n",
        "    self.random_model.mark_influenced(1)  \n",
        "      \n",
        "  def colorMap(self, color_map):\n",
        "      for node in list(self.G.nodes()):\n",
        "          if self.G.nodes[node]['influenced'] == 0:\n",
        "              color_map.append('blue')\n",
        "          elif self.G.nodes[node]['influenced'] == 1:\n",
        "              color_map.append('red')\n",
        "          else: \n",
        "              color_map.append('green')\n",
        "      \n",
        "\n"
      ],
      "id": "a5788e43",
      "execution_count": null,
      "outputs": []
    },
    {
      "cell_type": "markdown",
      "metadata": {
        "id": "OpiBwCs3_4q2"
      },
      "source": [
        "# Voter Model"
      ],
      "id": "OpiBwCs3_4q2"
    },
    {
      "cell_type": "code",
      "metadata": {
        "id": "jlZp1_NN_3ih"
      },
      "source": [
        "class VoterModel(Model):\n",
        "  def __init__(self, Z, avg_degree, model_name):\n",
        "    super().__init__(Z, avg_degree, model_name)\n",
        "    self.j = 0\n",
        "\n",
        "  def simulate_VM(self):\n",
        "    print('Voter Model / ' + self.model_name)\n",
        "    print('Diameter: ' + str(nx.diameter(self.G)))\n",
        "    print('Average Degree: ' + str(self.G.number_of_edges() /self.G.number_of_nodes()))\n",
        "    print('Average Path Length: {}'.format(nx.average_shortest_path_length(self.G)))\n",
        "\n",
        "    for i in range(self.Z):\n",
        "      self.G.nodes[i]['influenced'] = random.choice([0,1])\n",
        "      if (self.G.nodes[i]['influenced'] == 1):\n",
        "        self.influenced.add(list(self.G.nodes())[i])\n",
        "        self.j += 1\n",
        "\n",
        "    self.create_random_model()\n",
        "    self.VM()\n",
        "\n",
        "  def VM(self):\n",
        "    while(self.t < self.Z and 0 < self.j < self.Z):\n",
        "\n",
        "      if(self.t % 10 == 0):\n",
        "        print(str(self.t/self.Z) + '%')\n",
        "      influenced_copy = self.influenced.copy()\n",
        "\n",
        "      for node in list(self.G.nodes()):\n",
        "        neighbor = random.choice(list(self.G.neighbors(node)))\n",
        "        if(self.G.nodes[neighbor]['influenced'] == 1):\n",
        "          if(self.G.nodes[node]['influenced'] == 0):\n",
        "            self.G.nodes[node]['influenced'] = 1\n",
        "            self.influenced.add(node)\n",
        "            self.j += 1\n",
        "        else:\n",
        "          if(self.G.nodes[node]['influenced'] == 1):\n",
        "            self.G.nodes[node]['influenced'] = 0\n",
        "            self.influenced.discard(node)\n",
        "            self.j -= 1\n",
        "\n",
        "\n",
        "      self.random_model.mark_influenced(self.j)\n",
        "      self.calculate_propensity()\n",
        "      self.t+=1\n",
        "      self.random_model.t+=1\n",
        "    self.calculate_normalized_propensity()\n",
        "    return\n",
        "\n",
        "  def calculate_propensity(self):\n",
        "    super().calculate_propensity()\n",
        "\n",
        "  def calculate_normalized_propensity(self):\n",
        "    super().calculate_normalized_propensity()\n",
        "\n",
        "  def neighbors_at_distance(self, source, neighbors_list):\n",
        "    super().neighbors_at_distance(source, neighbors_list)\n",
        "\n",
        "  def update_average_probabilities(self):\n",
        "    super().update_average_probabilities()\n",
        "  \n",
        "  def create_random_model(self):\n",
        "    self.random_model = RandomModel(self.Z, self.avg_degree, self.model_name)\n",
        "  \n",
        "  def colorMap(self, color_map):\n",
        "    super().colorMap(color_map)"
      ],
      "id": "jlZp1_NN_3ih",
      "execution_count": null,
      "outputs": []
    },
    {
      "cell_type": "markdown",
      "metadata": {
        "id": "3BSfd2RBbpqa"
      },
      "source": [
        "# Prisoner's Dilemma Model"
      ],
      "id": "3BSfd2RBbpqa"
    },
    {
      "cell_type": "code",
      "metadata": {
        "id": "Kgn9m8C7bxk4"
      },
      "source": [
        "class PDModel(Model):\n",
        "  def __init__(self, Z, avg_degree, model_name):\n",
        "    super().__init__(Z, avg_degree, model_name)\n",
        "    self.j = 0\n",
        "    np.random.seed = seed\n",
        "\n",
        "    self.payoff_matrix = [ (1, 1), (-1,2) , \n",
        "                           (2,-1), (0, 0) ]\n",
        "\n",
        "  def simulate_PD(self, beta):\n",
        "    self.beta = beta\n",
        "\n",
        "    print('Prisoners Dilemma Model / ' + self.model_name)\n",
        "    print('Diameter: ' + str(nx.diameter(self.G)))\n",
        "    print('Average Degree: ' + str(self.G.number_of_edges() /self.G.number_of_nodes()))\n",
        "    print('Average Path Length: {}'.format(nx.average_shortest_path_length(self.G)))\n",
        "\n",
        "    for i in range(self.Z):\n",
        "      self.G.nodes[i]['influenced'] = random.choice([0,1])\n",
        "      self.G.nodes[i]['fitness'] = 0\n",
        "      if (self.G.nodes[i]['influenced'] == 1):\n",
        "        self.influenced.add(list(self.G.nodes())[i])\n",
        "        self.j += 1\n",
        "\n",
        "    self.create_random_model()\n",
        "    self.PD()\n",
        "\n",
        "  def PD(self):\n",
        "    while(self.t < self.Z and 0 < self.j < self.Z):\n",
        "\n",
        "      if(self.t % 10 == 0):\n",
        "        print(str(self.t*100/self.Z) + '%')\n",
        "      \n",
        "\n",
        "      for node in list(self.G.nodes()):\n",
        "        neighbor = random.choice(list(self.G.neighbors(node)))\n",
        "\n",
        "        fA = self.G.nodes[node]['fitness']\n",
        "        fB = self.G.nodes[neighbor]['fitness']\n",
        "        pA = self.calculate_probability_imitate(fA, fB)\n",
        "        pB = self.calculate_probability_imitate(fB, fA)\n",
        "        strategyA = np.random.uniform() < pA # true - cooperate : false - defect\n",
        "        strategyB = np.random.uniform() < pB\n",
        "\n",
        "        if(strategyA): # A Strategy - Cooperate\n",
        "          if(self.G.nodes[neighbor]['influenced'] == 1):\n",
        "            if(self.G.nodes[node]['influenced'] == 0):\n",
        "              self.G.nodes[node]['influenced'] = 1\n",
        "              self.j += 1\n",
        "          else:\n",
        "            if(self.G.nodes[node]['influenced'] == 1):\n",
        "              self.G.nodes[node]['influenced'] = 0\n",
        "              self.j -= 1\n",
        "          \n",
        "          if(strategyB):\n",
        "            self.G.nodes[node]['fitness'] += self.payoff_matrix[0][0]\n",
        "            self.G.nodes[node]['fitness'] += self.payoff_matrix[0][1]\n",
        "          else:\n",
        "            self.G.nodes[node]['fitness'] += self.payoff_matrix[1][0]\n",
        "            self.G.nodes[node]['fitness'] += self.payoff_matrix[1][1] \n",
        "        \n",
        "        else: # A Strategy - Defect\n",
        "          if(strategyB):\n",
        "            self.G.nodes[node]['fitness'] += self.payoff_matrix[2][0]\n",
        "            self.G.nodes[node]['fitness'] += self.payoff_matrix[2][1]\n",
        "          else:\n",
        "            self.G.nodes[node]['fitness'] += self.payoff_matrix[3][0]\n",
        "            self.G.nodes[node]['fitness'] += self.payoff_matrix[3][1] \n",
        "\n",
        "\n",
        "      self.random_model.mark_influenced(self.j)\n",
        "      self.calculate_propensity()\n",
        "      self.t+=1\n",
        "      self.random_model.t+=1\n",
        "    self.calculate_normalized_propensity()\n",
        "    return\n",
        "  \n",
        "  def calculate_probability_imitate(self, fitnessA, fitnessB):\n",
        "    exponent = -self.beta * (fitnessB - fitnessA)\n",
        "    return pow(1 + pow(math.e, exponent), -1)\n",
        "\n",
        "  def calculate_propensity(self):\n",
        "    super().calculate_propensity()\n",
        "\n",
        "  def calculate_normalized_propensity(self):\n",
        "    super().calculate_normalized_propensity()\n",
        "\n",
        "  def neighbors_at_distance(self, source, neighbors_list):\n",
        "    super().neighbors_at_distance(source, neighbors_list)\n",
        "\n",
        "  def update_average_probabilities(self):\n",
        "    super().update_average_probabilities()\n",
        "  \n",
        "  def create_random_model(self):\n",
        "    self.random_model = RandomModel(self.Z, self.avg_degree, self.model_name)\n",
        "  \n",
        "  def colorMap(self, color_map):\n",
        "    super().colorMap(color_map)"
      ],
      "id": "Kgn9m8C7bxk4",
      "execution_count": null,
      "outputs": []
    },
    {
      "cell_type": "markdown",
      "metadata": {
        "id": "y532sTWsxAap"
      },
      "source": [
        "# Run"
      ],
      "id": "y532sTWsxAap"
    },
    {
      "cell_type": "markdown",
      "metadata": {
        "id": "bLc5qMY_BdEP"
      },
      "source": [
        "## run SIR"
      ],
      "id": "bLc5qMY_BdEP"
    },
    {
      "cell_type": "code",
      "metadata": {
        "colab": {
          "base_uri": "https://localhost:8080/"
        },
        "id": "ee7dc97d",
        "outputId": "3c11269e-def4-4608-bee7-5fbb1722dfb0"
      },
      "source": [
        "#model = SIRModel(1000, 2, 'BA')\n",
        "#model.simulate_SIR(0.5, 0.5)\n",
        "\n",
        "model = SIRModel(1000, 5, 'BA')\n",
        "model.simulate_SIR(0.9, 0.2)\n"
      ],
      "id": "ee7dc97d",
      "execution_count": null,
      "outputs": [
        {
          "output_type": "stream",
          "name": "stdout",
          "text": [
            "BA\n",
            "Diameter: 5\n",
            "Average Degree: 4.975\n",
            "Average Path Length: 2.95407007007007\n",
            "fin\n",
            "fin\n",
            "eps  0.844302193737725  epsrandom  0.8383469134104602\n",
            "delta_1/ delta_1 =  1.0\n",
            "eps  0.8255740206292179  epsrandom  0.8222929098461083\n",
            "delta_2/ delta_1 =  0.5617148543350399\n",
            "eps  0.8210682797220661  epsrandom  0.822012323099812\n",
            "delta_3/ delta_1 =  -0.16167213819615547\n",
            "eps  0.8153678364228317  epsrandom  0.8212921718889429\n",
            "delta_4/ delta_1 =  -1.015461633516496\n"
          ]
        },
        {
          "output_type": "display_data",
          "data": {
            "image/png": "[encoded data removed]",
            "text/plain": [
              "<Figure size 432x288 with 1 Axes>"
            ]
          },
          "metadata": {
            "needs_background": "light"
          }
        }
      ]
    },
    {
      "cell_type": "code",
      "metadata": {
        "colab": {
          "base_uri": "https://localhost:8080/",
          "height": 632
        },
        "id": "GbQPS9jics90",
        "outputId": "820b980f-7600-40e4-cb00-2c8f293d7c98"
      },
      "source": [
        "model = SIRModel(1000, 4, 'HeSW')\n",
        "model.simulate_SIR(0.9, 0.2)"
      ],
      "id": "GbQPS9jics90",
      "execution_count": null,
      "outputs": [
        {
          "name": "stdout",
          "output_type": "stream",
          "text": [
            "HeSW\n",
            "Diameter: 9\n",
            "Average Degree: 2.0\n",
            "Average Path Length: 5.352232232232232\n",
            "fin\n",
            "fin\n",
            "eps  0.8463770720020722  epsrandom  0.837459376734377\n",
            "delta_1/ delta_1 =  1.0\n",
            "eps  0.817386546995254  epsrandom  0.8104950357816474\n",
            "delta_2/ delta_1 =  0.7985005688159532\n",
            "eps  0.8010802786104344  epsrandom  0.799437213938032\n",
            "delta_3/ delta_1 =  0.193010714731027\n",
            "eps  0.7977360859537779  epsrandom  0.7998321325410294\n",
            "delta_4/ delta_1 =  -0.24610090200704227\n",
            "eps  0.7957604043357825  epsrandom  0.7996822862219556\n",
            "delta_5/ delta_1 =  -0.4605620567016406\n"
          ]
        },
        {
          "data": {
            "image/png": "[encoded data removed]",
            "text/plain": [
              "<Figure size 432x288 with 1 Axes>"
            ]
          },
          "metadata": {},
          "output_type": "display_data"
        }
      ]
    },
    {
      "cell_type": "code",
      "metadata": {
        "colab": {
          "base_uri": "https://localhost:8080/",
          "height": 632
        },
        "id": "LGgWyDf5yKe7",
        "outputId": "5824a288-1f11-43c6-882b-e446747ad69f"
      },
      "source": [
        "model = SIRModel(1000, 7, 'HoSW')\n",
        "model.simulate_SIR(1, 0.2)"
      ],
      "id": "LGgWyDf5yKe7",
      "execution_count": null,
      "outputs": [
        {
          "name": "stdout",
          "output_type": "stream",
          "text": [
            "HoSW\n",
            "Diameter: 11\n",
            "Average Degree: 3.0\n",
            "Average Path Length: 6.206644644644645\n",
            "fin\n",
            "fin\n",
            "eps  0.8768896737213404  epsrandom  0.8626004850088186\n",
            "delta_1/ delta_1 =  1.0\n",
            "eps  0.8605088294444986  epsrandom  0.8500228444459506\n",
            "delta_2/ delta_1 =  0.7446989828109063\n",
            "eps  0.8438783463406183  epsrandom  0.8425798482663567\n",
            "delta_3/ delta_1 =  0.09303200224909151\n",
            "eps  0.8424574658038365  epsrandom  0.8422809443058308\n",
            "delta_4/ delta_1 =  0.012651521419610063\n",
            "eps  0.8388057287943281  epsrandom  0.8425291847635081\n",
            "delta_5/ delta_1 =  -0.2667862209006473\n"
          ]
        },
        {
          "data": {
            "image/png": "[encoded data removed]",
            "text/plain": [
              "<Figure size 432x288 with 1 Axes>"
            ]
          },
          "metadata": {},
          "output_type": "display_data"
        }
      ]
    },
    {
      "cell_type": "code",
      "metadata": {
        "colab": {
          "background_save": true,
          "base_uri": "https://localhost:8080/",
          "height": 632
        },
        "id": "1zwKVq1DMr8S",
        "outputId": "b417404e-88f0-4c41-9529-e5daec53c422"
      },
      "source": [
        "model = SIRModel(1000, 2, 'Exp')\n",
        "model.simulate_SIR(1, 0.2)"
      ],
      "id": "1zwKVq1DMr8S",
      "execution_count": null,
      "outputs": [
        {
          "name": "stdout",
          "output_type": "stream",
          "text": [
            "Exp\n",
            "Diameter: 9\n",
            "Average Degree: 1.997\n",
            "Average Path Length: 4.935895895895896\n",
            "fin\n",
            "fin\n",
            "eps  0.8611439859523193  epsrandom  0.8530482370888003\n",
            "delta_1/ delta_1 =  1.0\n",
            "eps  0.8326751116287192  epsrandom  0.8255902670025785\n",
            "delta_2/ delta_1 =  0.9042371136244645\n",
            "eps  0.8186801864846225  epsrandom  0.8154971172937794\n",
            "delta_3/ delta_1 =  0.4112824813982649\n",
            "eps  0.8156753911957738  epsrandom  0.815866441759209\n",
            "delta_4/ delta_1 =  -0.024674355350483172\n",
            "eps  0.8128612248348982  epsrandom  0.816801114748566\n",
            "delta_5/ delta_1 =  -0.5082581222323297\n"
          ]
        },
        {
          "data": {
            "image/png": "[encoded data removed]",
            "text/plain": [
              "<Figure size 432x288 with 1 Axes>"
            ]
          },
          "metadata": {},
          "output_type": "display_data"
        }
      ]
    },
    {
      "cell_type": "markdown",
      "metadata": {
        "id": "iBXhym9mBjQQ"
      },
      "source": [
        "## run VM"
      ],
      "id": "iBXhym9mBjQQ"
    },
    {
      "cell_type": "code",
      "metadata": {
        "colab": {
          "background_save": true
        },
        "id": "Wg8jILswBw-r"
      },
      "source": [
        "model = VoterModel(1000, 6, 'HeSW')\n",
        "model.simulate_VM()"
      ],
      "id": "Wg8jILswBw-r",
      "execution_count": null,
      "outputs": []
    },
    {
      "cell_type": "code",
      "metadata": {
        "colab": {
          "base_uri": "https://localhost:8080/",
          "height": 826
        },
        "id": "28uDgjzQ3Ses",
        "outputId": "906ebaf4-375a-405a-dad5-4e4c0213c448"
      },
      "source": [
        "model = VoterModel(1000, 2, 'BA')\n",
        "model.simulate_VM()"
      ],
      "id": "28uDgjzQ3Ses",
      "execution_count": null,
      "outputs": [
        {
          "name": "stdout",
          "output_type": "stream",
          "text": [
            "Voter Model / BA\n",
            "Diameter: 7\n",
            "Average Degree: 1.996\n",
            "Average Path Length: 4.0488888888888885\n",
            "0.01%\n",
            "0.02%\n",
            "0.03%\n",
            "0.04%\n",
            "0.05%\n",
            "0.06%\n",
            "0.07%\n",
            "0.08%\n",
            "0.09%\n",
            "0.1%\n",
            "0.11%\n",
            "0.12%\n",
            "0.13%\n",
            "eps  0.8605686426180242  epsrandom  0.7509596969623514\n",
            "delta_1/ delta_1 =  1.0\n",
            "eps  0.736563394236327  epsrandom  0.6814890765035341\n",
            "delta_2/ delta_1 =  0.5536825752052028\n",
            "eps  0.6718987993491725  epsrandom  0.6668618382475092\n",
            "delta_3/ delta_1 =  0.0517491667290091\n",
            "eps  0.6641127715724489  epsrandom  0.6668077871061968\n",
            "delta_4/ delta_1 =  -0.027690528144475073\n",
            "eps  0.6639010370478438  epsrandom  0.6662384337920677\n",
            "delta_5/ delta_1 =  -0.024036619110917513\n"
          ]
        },
        {
          "data": {
            "image/png": "[encoded data removed]",
            "text/plain": [
              "<Figure size 432x288 with 1 Axes>"
            ]
          },
          "metadata": {},
          "output_type": "display_data"
        }
      ]
    },
    {
      "cell_type": "code",
      "metadata": {
        "colab": {
          "base_uri": "https://localhost:8080/",
          "height": 632
        },
        "id": "tcPV7i_gZjxQ",
        "outputId": "c8cc6b95-8561-44e0-a039-f231c7ffdf99"
      },
      "source": [
        "model = VoterModel(100, 2, 'BA')\n",
        "model.simulate_VM()"
      ],
      "id": "tcPV7i_gZjxQ",
      "execution_count": null,
      "outputs": [
        {
          "name": "stdout",
          "output_type": "stream",
          "text": [
            "Voter Model / BA\n",
            "Diameter: 5\n",
            "Average Degree: 1.96\n",
            "Average Path Length: 2.8527272727272726\n",
            "0.1%\n",
            "0.2%\n",
            "eps  0.8051112164412167  epsrandom  0.6990457000057\n",
            "delta_1/ delta_1 =  1.0\n",
            "eps  0.6650646612764579  epsrandom  0.6152897493434076\n",
            "delta_2/ delta_1 =  0.5331656703744861\n",
            "eps  0.5825727856317613  epsrandom  0.5973661188296763\n",
            "delta_3/ delta_1 =  -0.16321377511799523\n",
            "eps  0.5716687452165297  epsrandom  0.5953272559983378\n",
            "delta_4/ delta_1 =  -0.2619165823636813\n",
            "eps  0.5593472222222222  epsrandom  0.6083472222222224\n",
            "delta_5/ delta_1 =  -0.5308549952970842\n"
          ]
        },
        {
          "data": {
            "image/png": "[encoded data removed]",
            "text/plain": [
              "<Figure size 432x288 with 1 Axes>"
            ]
          },
          "metadata": {},
          "output_type": "display_data"
        }
      ]
    },
    {
      "cell_type": "code",
      "metadata": {
        "colab": {
          "base_uri": "https://localhost:8080/",
          "height": 1000
        },
        "id": "o8FN3E1vv5y-",
        "outputId": "118f7201-27be-4679-e014-9d23ad118468"
      },
      "source": [
        "model = VoterModel(1000, 2, 'Exp')\n",
        "model.simulate_VM()"
      ],
      "id": "o8FN3E1vv5y-",
      "execution_count": null,
      "outputs": [
        {
          "name": "stdout",
          "output_type": "stream",
          "text": [
            "Voter Model / Exp\n",
            "Diameter: 8\n",
            "Average Degree: 1.997\n",
            "Average Path Length: 4.924144144144144\n",
            "0.01%\n",
            "0.02%\n",
            "0.03%\n",
            "0.04%\n",
            "0.05%\n",
            "0.06%\n",
            "0.07%\n",
            "0.08%\n",
            "0.09%\n",
            "0.1%\n",
            "0.11%\n",
            "0.12%\n",
            "0.13%\n",
            "0.14%\n",
            "0.15%\n",
            "0.16%\n",
            "0.17%\n",
            "0.18%\n",
            "0.19%\n",
            "0.2%\n",
            "0.21%\n",
            "0.22%\n",
            "0.23%\n",
            "0.24%\n",
            "0.25%\n",
            "0.26%\n",
            "0.27%\n",
            "0.28%\n",
            "0.29%\n",
            "0.3%\n",
            "0.31%\n",
            "eps  0.8491880098868878  epsrandom  0.7378250888871145\n",
            "delta_1/ delta_1 =  1.0\n",
            "eps  0.7414722683488404  epsrandom  0.6772675856755233\n",
            "delta_2/ delta_1 =  0.6280861521591617\n",
            "eps  0.6696888297429207  epsrandom  0.6567097143974596\n",
            "delta_3/ delta_1 =  0.13094365419113413\n",
            "eps  0.6594411761728026  epsrandom  0.6569755196422618\n",
            "delta_4/ delta_1 =  0.024865442749222793\n",
            "eps  0.6552952619755203  epsrandom  0.6572662093398647\n",
            "delta_5/ delta_1 =  -0.019867651159246703\n"
          ]
        },
        {
          "data": {
            "image/png": "[encoded data removed]",
            "text/plain": [
              "<Figure size 432x288 with 1 Axes>"
            ]
          },
          "metadata": {},
          "output_type": "display_data"
        }
      ]
    },
    {
      "cell_type": "code",
      "metadata": {
        "colab": {
          "base_uri": "https://localhost:8080/"
        },
        "id": "uBUpscI0v4tl",
        "outputId": "a06a953a-1739-4470-8320-21b6ca4c79a8"
      },
      "source": [
        "model = VoterModel(1000, 20, 'HoSW')\n",
        "model.simulate_VM()"
      ],
      "id": "uBUpscI0v4tl",
      "execution_count": null,
      "outputs": [
        {
          "output_type": "stream",
          "name": "stdout",
          "text": [
            "Voter Model / HoSW\n",
            "Diameter: 5\n",
            "Average Degree: 10.0\n",
            "Average Path Length: 3.2237077077077076\n",
            "0.01%\n",
            "0.02%\n",
            "0.03%\n",
            "0.04%\n",
            "0.05%\n"
          ]
        }
      ]
    },
    {
      "cell_type": "markdown",
      "metadata": {
        "id": "JbeKiOcCc1Od"
      },
      "source": [
        "## run PD"
      ],
      "id": "JbeKiOcCc1Od"
    },
    {
      "cell_type": "code",
      "metadata": {
        "colab": {
          "base_uri": "https://localhost:8080/",
          "height": 755
        },
        "id": "aGt-jr2wPyf6",
        "outputId": "3d4b134b-bcea-46ba-d1dd-344d4359cea8"
      },
      "source": [
        "model = PDModel(1000, 2, 'BA')\n",
        "model.simulate_PD(0.8)"
      ],
      "id": "aGt-jr2wPyf6",
      "execution_count": null,
      "outputs": [
        {
          "name": "stdout",
          "output_type": "stream",
          "text": [
            "Prisoners Dilemma Model / BA\n",
            "Diameter: 5\n",
            "Average Degree: 1.96\n",
            "Average Path Length: 2.8527272727272726\n",
            "0.1%\n",
            "0.2%\n",
            "0.3%\n",
            "0.4%\n",
            "0.5%\n",
            "0.6%\n",
            "0.7%\n",
            "0.8%\n",
            "0.9%\n",
            "eps  0.7750267513492516  epsrandom  0.6376272010347005\n",
            "delta_1/ delta_1 =  1.0\n",
            "eps  0.5968672494435668  epsrandom  0.5371717933208789\n",
            "delta_2/ delta_1 =  0.5157148051128412\n",
            "eps  0.49897349576510214  epsrandom  0.5160087017458401\n",
            "delta_3/ delta_1 =  -0.15320462921441677\n",
            "eps  0.49326395113129046  epsrandom  0.5165587477576783\n",
            "delta_4/ delta_1 =  -0.2092766269923606\n",
            "eps  0.4704479166666669  epsrandom  0.507409722222222\n",
            "delta_5/ delta_1 =  -0.33804609080986725\n"
          ]
        },
        {
          "data": {
            "image/png": "[encoded data removed]",
            "text/plain": [
              "<Figure size 432x288 with 1 Axes>"
            ]
          },
          "metadata": {},
          "output_type": "display_data"
        }
      ]
    },
    {
      "cell_type": "code",
      "metadata": {
        "colab": {
          "base_uri": "https://localhost:8080/",
          "height": 1000
        },
        "id": "Gd5108jBc3LI",
        "outputId": "6efde931-6dd4-436c-f6b5-171e173172ca"
      },
      "source": [
        "model = PDModel(1000, 4, 'HeSW')\n",
        "model.simulate_PD(0.2)"
      ],
      "id": "Gd5108jBc3LI",
      "execution_count": null,
      "outputs": [
        {
          "output_type": "stream",
          "name": "stdout",
          "text": [
            "Prisoners Dilemma Model / HeSW\n",
            "Diameter: 9\n",
            "Average Degree: 2.0\n",
            "Average Path Length: 5.352232232232232\n",
            "0.01%\n",
            "0.02%\n",
            "0.03%\n",
            "0.04%\n",
            "0.05%\n",
            "0.06%\n",
            "0.07%\n",
            "0.08%\n",
            "0.09%\n",
            "0.1%\n",
            "0.11%\n",
            "0.12%\n",
            "0.13%\n",
            "0.14%\n",
            "0.15%\n",
            "0.16%\n",
            "0.17%\n",
            "0.18%\n",
            "0.19%\n",
            "0.2%\n",
            "0.21%\n",
            "0.22%\n",
            "0.23%\n",
            "0.24%\n",
            "0.25%\n",
            "0.26%\n",
            "0.27%\n",
            "0.28%\n",
            "0.29%\n",
            "0.3%\n",
            "0.31%\n",
            "0.32%\n",
            "0.33%\n",
            "0.34%\n",
            "0.35%\n",
            "0.36%\n",
            "0.37%\n",
            "0.38%\n",
            "0.39%\n",
            "0.4%\n",
            "0.41%\n",
            "0.42%\n",
            "0.43%\n",
            "0.44%\n",
            "0.45%\n",
            "0.46%\n",
            "0.47%\n",
            "0.48%\n",
            "0.49%\n",
            "0.5%\n",
            "0.51%\n",
            "0.52%\n",
            "0.53%\n",
            "0.54%\n",
            "0.55%\n",
            "0.56%\n",
            "0.57%\n",
            "0.58%\n",
            "0.59%\n",
            "0.6%\n",
            "0.61%\n",
            "0.62%\n",
            "0.63%\n",
            "0.64%\n",
            "0.65%\n",
            "0.66%\n",
            "0.67%\n",
            "0.68%\n",
            "0.69%\n",
            "0.7%\n",
            "0.71%\n",
            "0.72%\n",
            "0.73%\n",
            "0.74%\n",
            "0.75%\n",
            "0.76%\n",
            "0.77%\n",
            "0.78%\n",
            "0.79%\n",
            "0.8%\n",
            "0.81%\n",
            "0.82%\n",
            "0.83%\n",
            "0.84%\n",
            "0.85%\n",
            "0.86%\n",
            "0.87%\n",
            "0.88%\n",
            "0.89%\n",
            "0.9%\n",
            "0.91%\n",
            "0.92%\n",
            "0.93%\n",
            "0.94%\n",
            "0.95%\n",
            "0.96%\n",
            "0.97%\n",
            "0.98%\n",
            "0.99%\n",
            "eps  0.7847660278083016  epsrandom  0.642573215537241\n",
            "delta_1/ delta_1 =  1.0\n",
            "eps  0.6610105176589296  epsrandom  0.5716078616262001\n",
            "delta_2/ delta_1 =  0.7068010779261629\n",
            "eps  0.5662819227111225  epsrandom  0.5448848297013564\n",
            "delta_3/ delta_1 =  0.17745777537071733\n",
            "eps  0.5482422575620498  epsrandom  0.5447185190945041\n",
            "delta_4/ delta_1 =  0.02923320971646051\n"
          ]
        },
        {
          "output_type": "display_data",
          "data": {
            "image/png": "[encoded data removed]",
            "text/plain": [
              "<Figure size 432x288 with 1 Axes>"
            ]
          },
          "metadata": {
            "needs_background": "light"
          }
        }
      ]
    },
    {
      "cell_type": "code",
      "metadata": {
        "colab": {
          "base_uri": "https://localhost:8080/",
          "height": 755
        },
        "id": "KD7tZ52AwIvm",
        "outputId": "12eb8be5-8ea0-4b0c-b68f-6b29e3e945a3"
      },
      "source": [
        "model = PDModel(100, 6, 'HoSW')\n",
        "model.simulate_PD(0.8)"
      ],
      "id": "KD7tZ52AwIvm",
      "execution_count": null,
      "outputs": [
        {
          "name": "stdout",
          "output_type": "stream",
          "text": [
            "Prisoners Dilemma Model / HoSW\n",
            "Diameter: 7\n",
            "Average Degree: 3.0\n",
            "Average Path Length: 3.6175757575757577\n",
            "0.1%\n",
            "0.2%\n",
            "0.3%\n",
            "0.4%\n",
            "0.5%\n",
            "0.6%\n",
            "0.7%\n",
            "0.8%\n",
            "0.9%\n",
            "eps  0.8114792857142855  epsrandom  0.5874698809523803\n",
            "delta_1/ delta_1 =  1.0\n",
            "eps  0.7033860253750587  epsrandom  0.5503027992450776\n",
            "delta_2/ delta_1 =  0.7295334972640435\n",
            "eps  0.5261220699067363  epsrandom  0.5223419668853082\n",
            "delta_3/ delta_1 =  0.018978770302113562\n",
            "eps  0.4822232686755978  epsrandom  0.5255321755003993\n",
            "delta_4/ delta_1 =  -0.216121147411794\n",
            "eps  0.46310363026528173  epsrandom  0.521380659237105\n",
            "delta_5/ delta_1 =  -0.293131060746232\n"
          ]
        },
        {
          "data": {
            "image/png": "[encoded data removed]",
            "text/plain": [
              "<Figure size 432x288 with 1 Axes>"
            ]
          },
          "metadata": {},
          "output_type": "display_data"
        }
      ]
    },
    {
      "cell_type": "code",
      "metadata": {
        "colab": {
          "base_uri": "https://localhost:8080/",
          "height": 1000
        },
        "id": "o67bqDk7wI8R",
        "outputId": "7d4359eb-f669-4524-d905-e7cff8fec9ec"
      },
      "source": [
        "model = PDModel(500, 5, 'Exp')\n",
        "model.simulate_PD(0.8)"
      ],
      "id": "o67bqDk7wI8R",
      "execution_count": null,
      "outputs": [
        {
          "output_type": "stream",
          "name": "stdout",
          "text": [
            "Prisoners Dilemma Model / Exp\n",
            "Diameter: 5\n",
            "Average Degree: 4.958\n",
            "Average Path Length: 2.970052104208417\n",
            "0.02%\n",
            "0.04%\n",
            "0.06%\n",
            "0.08%\n",
            "0.1%\n",
            "0.12%\n",
            "0.14%\n",
            "0.16%\n",
            "0.18%\n",
            "0.2%\n",
            "0.22%\n",
            "0.24%\n",
            "0.26%\n",
            "0.28%\n",
            "0.3%\n",
            "0.32%\n",
            "0.34%\n",
            "0.36%\n",
            "0.38%\n",
            "0.4%\n",
            "0.42%\n",
            "0.44%\n",
            "0.46%\n",
            "0.48%\n",
            "0.5%\n",
            "0.52%\n",
            "0.54%\n",
            "0.56%\n",
            "0.58%\n",
            "0.6%\n",
            "0.62%\n",
            "0.64%\n",
            "0.66%\n",
            "0.68%\n",
            "0.7%\n",
            "0.72%\n",
            "0.74%\n",
            "fin\n",
            "fin\n",
            "eps  0.8045744629676278  epsrandom  0.767774143256945\n",
            "delta_1/ delta_1 =  1.0\n",
            "eps  0.753058455303908  epsrandom  0.7435525893640732\n",
            "delta_2/ delta_1 =  0.2667238707988256\n",
            "eps  0.7391900107374396  epsrandom  0.7405876666114151\n",
            "delta_3/ delta_1 =  -0.039373649340886344\n",
            "eps  0.7347079610882474  epsrandom  0.7405096540063139\n",
            "delta_4/ delta_1 =  -0.16345789565926108\n"
          ]
        },
        {
          "output_type": "display_data",
          "data": {
            "image/png": "[encoded data removed]",
            "text/plain": [
              "<Figure size 432x288 with 1 Axes>"
            ]
          },
          "metadata": {
            "needs_background": "light"
          }
        }
      ]
    },
    {
      "cell_type": "markdown",
      "metadata": {
        "id": "58066556"
      },
      "source": [
        "# Notes \n",
        "j -> number of individuals carrying the trait in a population\n",
        "Z -> population size\n",
        "n -> distance \n",
        "\n",
        "δn(j/Z) -> propensity that 2 individuals at a distance n self-organize in the    same trait relative to a random distribution of traits\n",
        "\n",
        "ϵn(j/Z) -> the average probability that a node shares the same trait with nodes located at a network distance n\n",
        "\n",
        "ϵn_rand(j/Z) -> the same quantity associated with a random distribution of traits, given by j/Z\n",
        "\n",
        "### Stochastic Weight Averaging\n",
        "new average = average * t + w / t + 1\n",
        "use for ϵn(j/Z)\n",
        "\n"
      ],
      "id": "58066556"
    }
  ]
}